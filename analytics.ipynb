{
 "cells": [
  {
   "cell_type": "markdown",
   "source": [
    "# Аналітична звітність"
   ],
   "metadata": {
    "collapsed": false
   },
   "id": "fca7dbaf092b52cb"
  },
  {
   "cell_type": "code",
   "execution_count": 1,
   "outputs": [],
   "source": [
    "from storage import sales"
   ],
   "metadata": {
    "collapsed": false,
    "ExecuteTime": {
     "end_time": "2024-04-18T19:54:32.071611410Z",
     "start_time": "2024-04-18T19:54:30.495363318Z"
    }
   },
   "id": "4f619921912ab8da"
  },
  {
   "cell_type": "markdown",
   "source": [
    "## По клієнтах "
   ],
   "metadata": {
    "collapsed": false
   },
   "id": "4b0dc7693045dc7e"
  },
  {
   "cell_type": "code",
   "execution_count": 2,
   "outputs": [],
   "source": [
    "by_client = sales.groupby('client_id')"
   ],
   "metadata": {
    "collapsed": false,
    "ExecuteTime": {
     "end_time": "2024-04-18T19:54:32.072669307Z",
     "start_time": "2024-04-18T19:54:32.071389750Z"
    }
   },
   "id": "86ec2affdd24fcd6"
  },
  {
   "cell_type": "markdown",
   "source": [
    "1. Прибуток"
   ],
   "metadata": {
    "collapsed": false
   },
   "id": "54cbfe647b364f89"
  },
  {
   "cell_type": "code",
   "execution_count": 3,
   "outputs": [
    {
     "data": {
      "text/plain": "client_id\n0     658925\n1     662839\n2     664098\n3     689866\n4     657357\n5     701789\n6     669258\n7     663893\n8     656684\n9     674269\n10    658465\n11    630435\n12    686689\n13    678087\n14    657363\n15    670772\n16    697592\n17    688658\n18    618335\n19    700477\n20    678688\n21    660823\n22    696675\n23    678862\n24    646581\n25    687089\n26    670004\n27    660289\n28    706292\n29    675650\n30    664115\n31    663499\n32    667149\n33    675405\n34    653253\n35    681195\n36    692192\n37    657782\n38    651742\n39    678290\n40    683248\n41    659231\n42    670047\n43    661575\n44    654118\n45    671291\n46    675588\n47    654812\n48    708745\n49    662114\ndtype: int64"
     },
     "execution_count": 3,
     "metadata": {},
     "output_type": "execute_result"
    }
   ],
   "source": [
    "(by_client['price'].sum() - by_client['discount'].sum())"
   ],
   "metadata": {
    "collapsed": false,
    "ExecuteTime": {
     "end_time": "2024-04-18T19:54:32.074292269Z",
     "start_time": "2024-04-18T19:54:32.071887660Z"
    }
   },
   "id": "d89dd6d0df6588d1"
  },
  {
   "cell_type": "markdown",
   "source": [
    "2. Знижка"
   ],
   "metadata": {
    "collapsed": false
   },
   "id": "8209160a5aff9b7d"
  },
  {
   "cell_type": "code",
   "execution_count": 4,
   "outputs": [
    {
     "data": {
      "text/plain": "client_id\n0     175656\n1     176652\n2     178532\n3     185356\n4     175960\n5     188243\n6     179993\n7     177699\n8     176884\n9     174927\n10    176666\n11    169849\n12    183891\n13    181928\n14    177238\n15    178489\n16    189035\n17    183477\n18    162711\n19    184690\n20    178695\n21    173883\n22    184096\n23    184208\n24    173244\n25    182578\n26    179094\n27    173910\n28    189079\n29    181559\n30    177165\n31    178048\n32    178240\n33    181289\n34    174748\n35    181690\n36    184549\n37    174872\n38    174161\n39    180480\n40    181915\n41    176413\n42    179060\n43    177268\n44    173975\n45    181839\n46    178711\n47    176752\n48    189892\n49    177655\nName: discount, dtype: int64"
     },
     "execution_count": 4,
     "metadata": {},
     "output_type": "execute_result"
    }
   ],
   "source": [
    "by_client['discount'].sum()"
   ],
   "metadata": {
    "collapsed": false,
    "ExecuteTime": {
     "end_time": "2024-04-18T19:54:32.075367106Z",
     "start_time": "2024-04-18T19:54:32.072082515Z"
    }
   },
   "id": "5e1bde15a83f86e3"
  },
  {
   "cell_type": "code",
   "execution_count": 4,
   "outputs": [],
   "source": [],
   "metadata": {
    "collapsed": false,
    "ExecuteTime": {
     "end_time": "2024-04-18T19:54:32.076974771Z",
     "start_time": "2024-04-18T19:54:32.072258291Z"
    }
   },
   "id": "e186fa8ea6da5515"
  },
  {
   "cell_type": "markdown",
   "source": [
    "## По товарах"
   ],
   "metadata": {
    "collapsed": false
   },
   "id": "2a482adee6c39e3d"
  },
  {
   "cell_type": "code",
   "execution_count": 5,
   "outputs": [],
   "source": [
    "by_product = sales.groupby('product_id')"
   ],
   "metadata": {
    "collapsed": false,
    "ExecuteTime": {
     "end_time": "2024-04-18T19:54:32.086675317Z",
     "start_time": "2024-04-18T19:54:32.076010437Z"
    }
   },
   "id": "3445ca22c06a2cf3"
  },
  {
   "cell_type": "markdown",
   "source": [
    "1. Прибуток"
   ],
   "metadata": {
    "collapsed": false
   },
   "id": "dcd9c06f4aa12224"
  },
  {
   "cell_type": "code",
   "execution_count": 6,
   "outputs": [
    {
     "data": {
      "text/plain": "product_id\n0     1541651\n1     2978686\n2     2998070\n3     1534510\n4     1500141\n5     1555182\n6     1541827\n7     1526923\n8     1531508\n9     1537942\n10    1525945\n11    1538778\n12    1511698\n13    1547101\n14    1515821\n15    1507254\n16    1529967\n17    1533196\n18    1526809\n19    1549186\ndtype: int64"
     },
     "execution_count": 6,
     "metadata": {},
     "output_type": "execute_result"
    }
   ],
   "source": [
    "(by_product['price'].sum() - by_product['discount'].sum())"
   ],
   "metadata": {
    "collapsed": false,
    "ExecuteTime": {
     "end_time": "2024-04-18T19:54:32.174903875Z",
     "start_time": "2024-04-18T19:54:32.082879756Z"
    }
   },
   "id": "c2cfeea6349548a3"
  },
  {
   "cell_type": "markdown",
   "source": [
    "2. Число продажів"
   ],
   "metadata": {
    "collapsed": false
   },
   "id": "b3120e21c20c5e1c"
  },
  {
   "cell_type": "code",
   "execution_count": 7,
   "outputs": [
    {
     "data": {
      "text/plain": "product_id\n0      758940\n1     1454013\n2     1501643\n3      759985\n4      746574\n5      772499\n6      759319\n7      755801\n8      775385\n9      810069\n10     754237\n11     760836\n12     744400\n13     764277\n14     751122\n15     745302\n16     755630\n17     759138\n18     755599\n19     768723\nName: quantity, dtype: int64"
     },
     "execution_count": 7,
     "metadata": {},
     "output_type": "execute_result"
    }
   ],
   "source": [
    "by_product['quantity'].sum()"
   ],
   "metadata": {
    "collapsed": false,
    "ExecuteTime": {
     "end_time": "2024-04-18T19:54:32.176105981Z",
     "start_time": "2024-04-18T19:54:32.097934265Z"
    }
   },
   "id": "d6214ea2c9174031"
  },
  {
   "cell_type": "markdown",
   "source": [
    "Аналогічним чином можно робити будь-які звіти"
   ],
   "metadata": {
    "collapsed": false
   },
   "id": "e7f1a760d8525924"
  }
 ],
 "metadata": {
  "kernelspec": {
   "display_name": "Python 3",
   "language": "python",
   "name": "python3"
  },
  "language_info": {
   "codemirror_mode": {
    "name": "ipython",
    "version": 2
   },
   "file_extension": ".py",
   "mimetype": "text/x-python",
   "name": "python",
   "nbconvert_exporter": "python",
   "pygments_lexer": "ipython2",
   "version": "2.7.6"
  }
 },
 "nbformat": 4,
 "nbformat_minor": 5
}
